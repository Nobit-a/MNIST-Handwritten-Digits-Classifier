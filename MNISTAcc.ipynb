{
  "nbformat": 4,
  "nbformat_minor": 0,
  "metadata": {
    "colab": {
      "name": "MNISTAcc.ipynb",
      "provenance": [],
      "collapsed_sections": []
    },
    "kernelspec": {
      "name": "python3",
      "display_name": "Python 3"
    },
    "accelerator": "GPU"
  },
  "cells": [
    {
      "cell_type": "code",
      "metadata": {
        "id": "fppuWBsf13rv",
        "colab_type": "code",
        "colab": {}
      },
      "source": [
        "import numpy as np\n",
        "import matplotlib.pyplot as plt\n",
        "import torch\n",
        "from torchvision import transforms\n",
        "import torchvision.datasets as datasets"
      ],
      "execution_count": 0,
      "outputs": []
    },
    {
      "cell_type": "code",
      "metadata": {
        "id": "eNUzzU2A3cOX",
        "colab_type": "code",
        "colab": {
          "base_uri": "https://localhost:8080/",
          "height": 68
        },
        "outputId": "2a51b1df-38b5-479e-f066-63a95fa4c907"
      },
      "source": [
        "# Loading the data \n",
        "mnist_trainset = datasets.MNIST(root='./data', train=True, download=True, transform=transforms.Compose([transforms.ToTensor()]))\n",
        "mnist_testset = datasets.MNIST(root='./data', train=False, download=True, transform=transforms.Compose([transforms.ToTensor()]))\n",
        "\n",
        "mnist_valset, mnist_testset = torch.utils.data.random_split(mnist_testset, [int(0.9 * len(mnist_testset)), int(0.1 * len(mnist_testset))])\n",
        "\n",
        "train_dataloader = torch.utils.data.DataLoader(mnist_trainset, batch_size=64, shuffle=True)\n",
        "val_dataloader = torch.utils.data.DataLoader(mnist_valset, batch_size=32, shuffle=False)\n",
        "test_dataloader = torch.utils.data.DataLoader(mnist_testset, batch_size=32, shuffle=False)\n",
        "\n",
        "print(\"Training dataset size: \", len(mnist_trainset))\n",
        "print(\"Validation dataset size: \", len(mnist_valset))\n",
        "print(\"Testing dataset size: \", len(mnist_testset))\n"
      ],
      "execution_count": 17,
      "outputs": [
        {
          "output_type": "stream",
          "text": [
            "Training dataset size:  60000\n",
            "Validation dataset size:  9000\n",
            "Testing dataset size:  1000\n"
          ],
          "name": "stdout"
        }
      ]
    },
    {
      "cell_type": "code",
      "metadata": {
        "id": "AJbWIYp-Cz6I",
        "colab_type": "code",
        "colab": {
          "base_uri": "https://localhost:8080/",
          "height": 223
        },
        "outputId": "0c066fd6-dd90-40c0-e630-b7260b74394b"
      },
      "source": [
        "# visualize data\n",
        "fig=plt.figure(figsize=(20, 10))\n",
        "for i in range(1, 6):\n",
        "    img = transforms.ToPILImage(mode='L')(mnist_trainset[i][0])\n",
        "    fig.add_subplot(1, 6, i)\n",
        "    plt.title(mnist_trainset[i][1])\n",
        "    plt.imshow(img, cmap='gray')\n",
        "plt.show()"
      ],
      "execution_count": 18,
      "outputs": [
        {
          "output_type": "display_data",
          "data": {
            "image/png": "[encoded data removed]",
            "text/plain": [
              "<Figure size 1440x720 with 5 Axes>"
            ]
          },
          "metadata": {
            "tags": [],
            "needs_background": "light"
          }
        }
      ]
    },
    {
      "cell_type": "code",
      "metadata": {
        "id": "CORRsXxdFiVO",
        "colab_type": "code",
        "colab": {}
      },
      "source": [
        "import torch\n",
        "\n",
        "class Net(torch.nn.Module):\n",
        "    def __init__(self):\n",
        "        super(Net, self).__init__()\n",
        "        self.conv_1 = torch.nn.Conv2d(in_channels=1, out_channels=32, kernel_size=3, stride=1, padding=1)\n",
        "        self.conv_2 = torch.nn.Conv2d(in_channels=32, out_channels=64, kernel_size=3, stride=1, padding=1)\n",
        "        self.max_pool2d = torch.nn.MaxPool2d(kernel_size=2, stride=2)\n",
        "        self.linear_1 = torch.nn.Linear(7 * 7 * 64, 128)\n",
        "        self.linear_2 = torch.nn.Linear(128, 10)\n",
        "        self.dropout = torch.nn.Dropout(p=0.5)\n",
        "        self.relu = torch.nn.ReLU()\n",
        "\n",
        "    def forward(self, x):\n",
        "        x = self.conv_1(x)\n",
        "        x = self.relu(x)\n",
        "        x = self.max_pool2d(x)\n",
        "        x = self.conv_2(x)\n",
        "        x = self.relu(x)\n",
        "        x = self.max_pool2d(x)\n",
        "        x = x.reshape(x.size(0), -1)\n",
        "        x = self.linear_1(x)\n",
        "        x = self.relu(x)\n",
        "        x = self.dropout(x)\n",
        "        pred = self.linear_2(x)\n",
        "\n",
        "        return pred"
      ],
      "execution_count": 0,
      "outputs": []
    },
    {
      "cell_type": "code",
      "metadata": {
        "id": "AYND5P_FDwle",
        "colab_type": "code",
        "colab": {}
      },
      "source": [
        "net = Net()\n",
        "criterion = torch.nn.CrossEntropyLoss()\n",
        "optimizer = torch.optim.Adam(net.parameters(), lr=0.001)\n",
        "\n",
        "if (torch.cuda.is_available()):\n",
        "    net.cuda()"
      ],
      "execution_count": 0,
      "outputs": []
    },
    {
      "cell_type": "code",
      "metadata": {
        "id": "jxe71ZlNFao7",
        "colab_type": "code",
        "colab": {
          "base_uri": "https://localhost:8080/",
          "height": 1000
        },
        "outputId": "d1cb7cc2-6be3-4372-92bb-07f7e245beee"
      },
      "source": [
        "no_epochs = 20\n",
        "train_loss = list()\n",
        "val_loss = list()\n",
        "best_val_loss = 1\n",
        "for epoch in range(no_epochs):\n",
        "    total_train_loss = 0\n",
        "    total_val_loss = 0\n",
        "\n",
        "    net.train()\n",
        "    # training\n",
        "    for iter, (image, label) in enumerate(train_dataloader):\n",
        "\n",
        "        if (torch.cuda.is_available()):\n",
        "            image = image.cuda()\n",
        "            label = label.cuda()\n",
        "\n",
        "        optimizer.zero_grad()\n",
        "\n",
        "        pred = net(image)\n",
        "\n",
        "        loss = criterion(pred, label)\n",
        "        total_train_loss += loss.item()\n",
        "\n",
        "        loss.backward()\n",
        "        optimizer.step()\n",
        "\n",
        "    total_train_loss = total_train_loss / (iter + 1)\n",
        "    train_loss.append(total_train_loss)\n",
        "\n",
        "    # validation\n",
        "    net.eval()\n",
        "    total = 0\n",
        "    for iter, (image, label) in enumerate(val_dataloader):\n",
        "\n",
        "        if (torch.cuda.is_available()):\n",
        "            image = image.cuda()\n",
        "            label = label.cuda()\n",
        "\n",
        "        pred = net(image)\n",
        "\n",
        "        loss = criterion(pred, label)\n",
        "        total_val_loss += loss.item()\n",
        "\n",
        "        pred = torch.nn.functional.softmax(pred, dim=1)\n",
        "        for i, p in enumerate(pred):\n",
        "            if label[i] == torch.max(p.data, 0)[1]:\n",
        "                total = total + 1\n",
        "\n",
        "    accuracy = total / len(mnist_valset)\n",
        "\n",
        "    total_val_loss = total_val_loss / (iter + 1)\n",
        "    val_loss.append(total_val_loss)\n",
        "\n",
        "    print('\\nEpoch: {}/{}, Train Loss: {:.8f}, Val Loss: {:.8f}, Val Accuracy: {:.8f}'.format(epoch + 1, no_epochs, total_train_loss, total_val_loss, accuracy))\n",
        "\n",
        "    if total_val_loss < best_val_loss:\n",
        "        best_val_loss = total_val_loss\n",
        "        print(\"Saving the model state dictionary for Epoch: {} with Validation loss: {:.8f}\".format(epoch + 1, total_val_loss))\n",
        "        torch.save(net.state_dict(), \"net.dth\")\n",
        "\n",
        "# fig=plt.figure(figsize=(20, 10))\n",
        "# plt.plot(np.arange(1, no_epochs+1), train_loss, label=\"Train loss\")\n",
        "# plt.plot(np.arange(1, no_epochs+1), val_loss, label=\"Validation loss\")\n",
        "# plt.xlabel('Loss')\n",
        "# plt.ylabel('Epochs')\n",
        "# plt.title(\"Loss Plots\")\n",
        "# plt.legend(loc='upper right')\n",
        "# plt.show()\n"
      ],
      "execution_count": 21,
      "outputs": [
        {
          "output_type": "stream",
          "text": [
            "\n",
            "Epoch: 1/20, Train Loss: 0.29404398, Val Loss: 0.05810123, Val Accuracy: 0.98188889\n",
            "Saving the model state dictionary for Epoch: 1 with Validation loss: 0.05810123\n",
            "\n",
            "Epoch: 2/20, Train Loss: 0.10090534, Val Loss: 0.03640694, Val Accuracy: 0.98800000\n",
            "Saving the model state dictionary for Epoch: 2 with Validation loss: 0.03640694\n",
            "\n",
            "Epoch: 3/20, Train Loss: 0.07591840, Val Loss: 0.03225933, Val Accuracy: 0.99000000\n",
            "Saving the model state dictionary for Epoch: 3 with Validation loss: 0.03225933\n",
            "\n",
            "Epoch: 4/20, Train Loss: 0.06166339, Val Loss: 0.02637954, Val Accuracy: 0.99155556\n",
            "Saving the model state dictionary for Epoch: 4 with Validation loss: 0.02637954\n",
            "\n",
            "Epoch: 5/20, Train Loss: 0.05214782, Val Loss: 0.02526403, Val Accuracy: 0.99177778\n",
            "Saving the model state dictionary for Epoch: 5 with Validation loss: 0.02526403\n",
            "\n",
            "Epoch: 6/20, Train Loss: 0.04769453, Val Loss: 0.02400927, Val Accuracy: 0.99166667\n",
            "Saving the model state dictionary for Epoch: 6 with Validation loss: 0.02400927\n",
            "\n",
            "Epoch: 7/20, Train Loss: 0.03942531, Val Loss: 0.02669476, Val Accuracy: 0.99144444\n",
            "\n",
            "Epoch: 8/20, Train Loss: 0.03629669, Val Loss: 0.02830572, Val Accuracy: 0.99122222\n",
            "\n",
            "Epoch: 9/20, Train Loss: 0.03180271, Val Loss: 0.02282262, Val Accuracy: 0.99311111\n",
            "Saving the model state dictionary for Epoch: 9 with Validation loss: 0.02282262\n",
            "\n",
            "Epoch: 10/20, Train Loss: 0.02824732, Val Loss: 0.02207070, Val Accuracy: 0.99377778\n",
            "Saving the model state dictionary for Epoch: 10 with Validation loss: 0.02207070\n",
            "\n",
            "Epoch: 11/20, Train Loss: 0.02601109, Val Loss: 0.02301350, Val Accuracy: 0.99244444\n",
            "\n",
            "Epoch: 12/20, Train Loss: 0.02498302, Val Loss: 0.02259693, Val Accuracy: 0.99377778\n",
            "\n",
            "Epoch: 13/20, Train Loss: 0.02123264, Val Loss: 0.02500716, Val Accuracy: 0.99311111\n",
            "\n",
            "Epoch: 14/20, Train Loss: 0.02095097, Val Loss: 0.02337514, Val Accuracy: 0.99355556\n",
            "\n",
            "Epoch: 15/20, Train Loss: 0.01881647, Val Loss: 0.02477372, Val Accuracy: 0.99366667\n",
            "\n",
            "Epoch: 16/20, Train Loss: 0.01797064, Val Loss: 0.02769897, Val Accuracy: 0.99355556\n",
            "\n",
            "Epoch: 17/20, Train Loss: 0.01604125, Val Loss: 0.02178984, Val Accuracy: 0.99466667\n",
            "Saving the model state dictionary for Epoch: 17 with Validation loss: 0.02178984\n",
            "\n",
            "Epoch: 18/20, Train Loss: 0.01424353, Val Loss: 0.02522592, Val Accuracy: 0.99300000\n",
            "\n",
            "Epoch: 19/20, Train Loss: 0.01592247, Val Loss: 0.02389701, Val Accuracy: 0.99377778\n",
            "\n",
            "Epoch: 20/20, Train Loss: 0.01274965, Val Loss: 0.02330048, Val Accuracy: 0.99377778\n"
          ],
          "name": "stdout"
        },
        {
          "output_type": "display_data",
          "data": {
            "image/png": "[encoded data removed]",
            "text/plain": [
              "<Figure size 1440x720 with 1 Axes>"
            ]
          },
          "metadata": {
            "tags": [],
            "needs_background": "light"
          }
        }
      ]
    }
  ]
}